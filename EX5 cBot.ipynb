{
 "cells": [
  {
   "cell_type": "code",
   "execution_count": 1,
   "id": "8415ea8c",
   "metadata": {},
   "outputs": [],
   "source": [
    "import numpy as np\n",
    "import pandas as pd\n",
    "import random\n",
    "import sys"
   ]
  },
  {
   "cell_type": "code",
   "execution_count": 2,
   "id": "6501d515",
   "metadata": {},
   "outputs": [],
   "source": [
    "from nltk.tokenize import word_tokenize\n",
    "from nltk.stem import WordNetLemmatizer"
   ]
  },
  {
   "cell_type": "code",
   "execution_count": 3,
   "id": "74c69362",
   "metadata": {},
   "outputs": [],
   "source": [
    "R_EATING = \"I don't like eating cause imma bot!\""
   ]
  },
  {
   "cell_type": "code",
   "execution_count": 4,
   "id": "29ecdb3c",
   "metadata": {},
   "outputs": [],
   "source": [
    "exit_words = ['bye']"
   ]
  },
  {
   "cell_type": "code",
   "execution_count": 5,
   "id": "ead402bc",
   "metadata": {},
   "outputs": [],
   "source": [
    "def unknown():\n",
    "    resp = ['Could you please rephrase that?',\n",
    "            '...',\n",
    "            'Sounds about right',\n",
    "            'What does that mean'][random.randrange(4)]\n",
    "    return resp"
   ]
  },
  {
   "cell_type": "code",
   "execution_count": 6,
   "id": "08101d6a",
   "metadata": {},
   "outputs": [],
   "source": [
    "def message_probability(usr_mssg, recognised_words, single_response=False, required_words=[]):\n",
    "    certain = 0.0\n",
    "    has_required_words = True\n",
    "    for word in usr_mssg:\n",
    "        if word in recognised_words:\n",
    "            certain += 1\n",
    "    certain /= len(recognised_words)\n",
    "    \n",
    "    for word in required_words:\n",
    "        if word not in usr_mssg:\n",
    "            has_required_words = False\n",
    "\n",
    "    if has_required_words or single_response:\n",
    "        return int(certain * 100)\n",
    "    else:\n",
    "        return 0"
   ]
  },
  {
   "cell_type": "code",
   "execution_count": 7,
   "id": "acf8bea4",
   "metadata": {},
   "outputs": [],
   "source": [
    "def chk_messages(msg):\n",
    "    \n",
    "    highest_prob_list = {}\n",
    "\n",
    "    def response(bot_response, list_of_words, single_response=False, required_words=[]):\n",
    "        nonlocal highest_prob_list\n",
    "        highest_prob_list[bot_response] = message_probability(msg, list_of_words, single_response, required_words)\n",
    "\n",
    "    response('Hello!', ['hello', 'hi', 'sup', 'hey'], single_response=True)\n",
    "    response('I\\'m doing fine, and you?', ['how', 'are', 'you', 'doing'], required_words=['how'])\n",
    "    response('Thank you!', ['it', 'works'], required_words=['works'])\n",
    "    response(R_EATING, ['what', 'you', 'eat'], required_words=['eat', 'you'])\n",
    "\n",
    "    match = max(highest_prob_list, key=highest_prob_list.get)\n",
    "\n",
    "    return unknown() if highest_prob_list[match]<1 else match"
   ]
  },
  {
   "cell_type": "code",
   "execution_count": 10,
   "id": "117b2d67",
   "metadata": {},
   "outputs": [],
   "source": [
    "def get_response(usr_input):\n",
    "    words = word_tokenize(usr_input.lower())\n",
    "    #stemm here\n",
    "    flt_words = []\n",
    "    for dt in words:\n",
    "        if dt.lower() in ['.',',','!','&',';',\":\",'?']:\n",
    "            continue\n",
    "        if dt.lower().isalnum():\n",
    "            flt_words.append(dt.lower())\n",
    "    \n",
    "    for w in words:\n",
    "        if w in exit_words:\n",
    "            sys.exit()\n",
    "    \n",
    "    response = chk_messages(flt_words)\n",
    "    return response"
   ]
  },
  {
   "cell_type": "code",
   "execution_count": 12,
   "id": "17dad9b8",
   "metadata": {},
   "outputs": [
    {
     "name": "stdout",
     "output_type": "stream",
     "text": [
      "You: what you eat?\n",
      "Bot: I don't like eating cause imma bot!\n"
     ]
    },
    {
     "ename": "KeyboardInterrupt",
     "evalue": "Interrupted by user",
     "output_type": "error",
     "traceback": [
      "\u001b[1;31m---------------------------------------------------------------------------\u001b[0m",
      "\u001b[1;31mKeyboardInterrupt\u001b[0m                         Traceback (most recent call last)",
      "Cell \u001b[1;32mIn[12], line 2\u001b[0m\n\u001b[0;32m      1\u001b[0m \u001b[38;5;28;01mwhile\u001b[39;00m \u001b[38;5;28;01mTrue\u001b[39;00m:\n\u001b[1;32m----> 2\u001b[0m     \u001b[38;5;28mprint\u001b[39m(\u001b[38;5;124m'\u001b[39m\u001b[38;5;124mBot: \u001b[39m\u001b[38;5;124m'\u001b[39m \u001b[38;5;241m+\u001b[39m get_response(\u001b[38;5;28minput\u001b[39m(\u001b[38;5;124m'\u001b[39m\u001b[38;5;124mYou: \u001b[39m\u001b[38;5;124m'\u001b[39m)))\n",
      "File \u001b[1;32m~\\.conda\\envs\\slaveA\\Lib\\site-packages\\ipykernel\\kernelbase.py:1202\u001b[0m, in \u001b[0;36mKernel.raw_input\u001b[1;34m(self, prompt)\u001b[0m\n\u001b[0;32m   1200\u001b[0m     msg \u001b[38;5;241m=\u001b[39m \u001b[38;5;124m\"\u001b[39m\u001b[38;5;124mraw_input was called, but this frontend does not support input requests.\u001b[39m\u001b[38;5;124m\"\u001b[39m\n\u001b[0;32m   1201\u001b[0m     \u001b[38;5;28;01mraise\u001b[39;00m StdinNotImplementedError(msg)\n\u001b[1;32m-> 1202\u001b[0m \u001b[38;5;28;01mreturn\u001b[39;00m \u001b[38;5;28mself\u001b[39m\u001b[38;5;241m.\u001b[39m_input_request(\n\u001b[0;32m   1203\u001b[0m     \u001b[38;5;28mstr\u001b[39m(prompt),\n\u001b[0;32m   1204\u001b[0m     \u001b[38;5;28mself\u001b[39m\u001b[38;5;241m.\u001b[39m_parent_ident[\u001b[38;5;124m\"\u001b[39m\u001b[38;5;124mshell\u001b[39m\u001b[38;5;124m\"\u001b[39m],\n\u001b[0;32m   1205\u001b[0m     \u001b[38;5;28mself\u001b[39m\u001b[38;5;241m.\u001b[39mget_parent(\u001b[38;5;124m\"\u001b[39m\u001b[38;5;124mshell\u001b[39m\u001b[38;5;124m\"\u001b[39m),\n\u001b[0;32m   1206\u001b[0m     password\u001b[38;5;241m=\u001b[39m\u001b[38;5;28;01mFalse\u001b[39;00m,\n\u001b[0;32m   1207\u001b[0m )\n",
      "File \u001b[1;32m~\\.conda\\envs\\slaveA\\Lib\\site-packages\\ipykernel\\kernelbase.py:1245\u001b[0m, in \u001b[0;36mKernel._input_request\u001b[1;34m(self, prompt, ident, parent, password)\u001b[0m\n\u001b[0;32m   1242\u001b[0m \u001b[38;5;28;01mexcept\u001b[39;00m \u001b[38;5;167;01mKeyboardInterrupt\u001b[39;00m:\n\u001b[0;32m   1243\u001b[0m     \u001b[38;5;66;03m# re-raise KeyboardInterrupt, to truncate traceback\u001b[39;00m\n\u001b[0;32m   1244\u001b[0m     msg \u001b[38;5;241m=\u001b[39m \u001b[38;5;124m\"\u001b[39m\u001b[38;5;124mInterrupted by user\u001b[39m\u001b[38;5;124m\"\u001b[39m\n\u001b[1;32m-> 1245\u001b[0m     \u001b[38;5;28;01mraise\u001b[39;00m \u001b[38;5;167;01mKeyboardInterrupt\u001b[39;00m(msg) \u001b[38;5;28;01mfrom\u001b[39;00m \u001b[38;5;28;01mNone\u001b[39;00m\n\u001b[0;32m   1246\u001b[0m \u001b[38;5;28;01mexcept\u001b[39;00m \u001b[38;5;167;01mException\u001b[39;00m:\n\u001b[0;32m   1247\u001b[0m     \u001b[38;5;28mself\u001b[39m\u001b[38;5;241m.\u001b[39mlog\u001b[38;5;241m.\u001b[39mwarning(\u001b[38;5;124m\"\u001b[39m\u001b[38;5;124mInvalid Message:\u001b[39m\u001b[38;5;124m\"\u001b[39m, exc_info\u001b[38;5;241m=\u001b[39m\u001b[38;5;28;01mTrue\u001b[39;00m)\n",
      "\u001b[1;31mKeyboardInterrupt\u001b[0m: Interrupted by user"
     ]
    }
   ],
   "source": [
    "while True:\n",
    "    print('Bot: ' + get_response(input('You: ')))"
   ]
  },
  {
   "cell_type": "code",
   "execution_count": null,
   "id": "f3987070",
   "metadata": {},
   "outputs": [],
   "source": []
  }
 ],
 "metadata": {
  "kernelspec": {
   "display_name": "Python 3 (ipykernel)",
   "language": "python",
   "name": "python3"
  },
  "language_info": {
   "codemirror_mode": {
    "name": "ipython",
    "version": 3
   },
   "file_extension": ".py",
   "mimetype": "text/x-python",
   "name": "python",
   "nbconvert_exporter": "python",
   "pygments_lexer": "ipython3",
   "version": "3.11.4"
  }
 },
 "nbformat": 4,
 "nbformat_minor": 5
}
